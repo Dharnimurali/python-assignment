{
  "nbformat": 4,
  "nbformat_minor": 0,
  "metadata": {
    "colab": {
      "provenance": [],
      "authorship_tag": "ABX9TyPYSH9isuxtRmBXDVgGyz6r",
      "include_colab_link": true
    },
    "kernelspec": {
      "name": "python3",
      "display_name": "Python 3"
    },
    "language_info": {
      "name": "python"
    }
  },
  "cells": [
    {
      "cell_type": "markdown",
      "metadata": {
        "id": "view-in-github",
        "colab_type": "text"
      },
      "source": [
        "<a href=\"https://colab.research.google.com/github/Dharnimurali/python-assignment/blob/main/python_assignment_.ipynb\" target=\"_parent\"><img src=\"https://colab.research.google.com/assets/colab-badge.svg\" alt=\"Open In Colab\"/></a>"
      ]
    },
    {
      "cell_type": "code",
      "execution_count": 1,
      "metadata": {
        "colab": {
          "base_uri": "https://localhost:8080/",
          "height": 0
        },
        "id": "vJ-QNgLHlZ7c",
        "outputId": "ff0800a4-6932-4568-b50c-d47607bb96d0"
      },
      "outputs": [
        {
          "output_type": "stream",
          "name": "stdout",
          "text": [
            "apbqcr\n"
          ]
        }
      ],
      "source": [
        "def interleave_words(word1, word2):\n",
        "    # Initialize the result by interleaving characters from both words\n",
        "    result = \"\".join(a + b for a, b in zip(word1, word2))\n",
        "\n",
        "    # Append the remaining characters from the longer word (if any)\n",
        "    result += word1[len(word2):] + word2[len(word1):]\n",
        "\n",
        "    # Return the final interleaved string\n",
        "    return result\n",
        "\n",
        "# Example usage\n",
        "word1 = \"abc\"\n",
        "word2 = \"pqr\"\n",
        "\n",
        "# Call the function and print the output\n",
        "output = interleave_words(word1, word2)\n",
        "print(output)  # Expected output: \"apbqcr\""
      ]
    },
    {
      "cell_type": "code",
      "source": [
        "def interleave_words(word1, word2):\n",
        "    # Find the length of the shorter word\n",
        "    min_length = min(len(word1), len(word2))\n",
        "\n",
        "    # Interleave characters from both words up to the length of the shorter word\n",
        "    result = \"\".join(a + b for a, b in zip(word1[:min_length], word2[:min_length]))\n",
        "\n",
        "    # Append the remaining characters from the longer word (if any)\n",
        "    result += word1[min_length:] + word2[min_length:]\n",
        "\n",
        "    # Return the final interleaved string\n",
        "    return result\n",
        "\n",
        "# Example usage\n",
        "word1 = \"ab\"\n",
        "word2 = \"pqrs\"\n",
        "\n",
        "# Call the function and print the output\n",
        "output = interleave_words(word1, word2)\n",
        "print(output)  # Expected output: \"apbqrs\""
      ],
      "metadata": {
        "colab": {
          "base_uri": "https://localhost:8080/",
          "height": 0
        },
        "id": "_eNJsRb6mnvc",
        "outputId": "b20fadb2-54c9-4bfc-bf37-f3131fec375a"
      },
      "execution_count": 2,
      "outputs": [
        {
          "output_type": "stream",
          "name": "stdout",
          "text": [
            "apbqrs\n"
          ]
        }
      ]
    },
    {
      "cell_type": "code",
      "source": [
        "def interleave_words(word1, word2):\n",
        "    min_length = min(len(word1), len(word2))\n",
        "    result = \"\".join(a + b for a, b in zip(word1[:min_length], word2[:min_length]))\n",
        "    result += word1[min_length:] + word2[min_length:]\n",
        "    return result\n",
        "word1 = \"abcd\"\n",
        "word2 = \"pq\"\n",
        "output = interleave_words(word1, word2)\n",
        "print(output)"
      ],
      "metadata": {
        "id": "C4y1LvyInV2z"
      },
      "execution_count": null,
      "outputs": []
    },
    {
      "cell_type": "markdown",
      "source": [],
      "metadata": {
        "id": "6hRFdFS6np6k"
      }
    },
    {
      "cell_type": "code",
      "source": [
        "def interleave_words(word1, word2):\n",
        "    # Find the length of the shorter word\n",
        "    min_length = min(len(word1), len(word2))\n",
        "\n",
        "    # Interleave characters from both words up to the length of the shorter word\n",
        "    result = \"\".join(a + b for a, b in zip(word1[:min_length], word2[:min_length]))\n",
        "\n",
        "    # Append the remaining characters from the longer word (if any)\n",
        "    result += word1[min_length:] + word2[min_length:]\n",
        "\n",
        "    # Return the final interleaved string\n",
        "    return result\n",
        "\n",
        "# Example usage\n",
        "word1 = \"abcd\"\n",
        "word2 = \"pq\"\n",
        "\n",
        "# Call the function and print the output\n",
        "output = interleave_words(word1, word2)\n",
        "print(output)  # Expected output: \"apbqcd\"\n"
      ],
      "metadata": {
        "colab": {
          "base_uri": "https://localhost:8080/",
          "height": 0
        },
        "id": "1oH-UTz8nqZK",
        "outputId": "97d9edc2-cf23-4359-9d06-b22dfedb2de6"
      },
      "execution_count": 3,
      "outputs": [
        {
          "output_type": "stream",
          "name": "stdout",
          "text": [
            "apbqcd\n"
          ]
        }
      ]
    },
    {
      "cell_type": "code",
      "source": [
        "import math  # (Not needed, since a custom GCD function is used)\n",
        "\n",
        "def find_gcd_string(str1, str2):\n",
        "    # Helper function to compute the greatest common divisor (GCD) using the Euclidean algorithm\n",
        "    def gcd(a, b):\n",
        "        while b:\n",
        "            a, b = b, a % b\n",
        "        return a  # Returns the GCD of two numbers\n",
        "\n",
        "    # Compute the GCD of the lengths of both strings\n",
        "    gcd_length = gcd(len(str1), len(str2))\n",
        "\n",
        "    # Extract the potential GCD substring\n",
        "    candidate = str1[:gcd_length]\n",
        "\n",
        "    # Check if the candidate string can generate both str1 and str2 by repetition\n",
        "    if str1 == candidate * (len(str1) // gcd_length) and str2 == candidate * (len(str2) // gcd_length):\n",
        "        return candidate  # Return the valid GCD string\n",
        "\n",
        "    return \"\"  # Return an empty string if no common divisor string exists\n",
        "\n",
        "# Example usage\n",
        "str1 = \"ABCABC\"\n",
        "str2 = \"ABC\"\n",
        "\n",
        "# Call the function and print the output\n",
        "output = find_gcd_string(str1, str2)\n",
        "print(output)  # Expected output: \"ABC\"\n"
      ],
      "metadata": {
        "colab": {
          "base_uri": "https://localhost:8080/",
          "height": 0
        },
        "id": "eMpZPgX-pJSm",
        "outputId": "db5566a3-32b9-487f-d8f8-227618da4982"
      },
      "execution_count": 4,
      "outputs": [
        {
          "output_type": "stream",
          "name": "stdout",
          "text": [
            "ABC\n"
          ]
        }
      ]
    },
    {
      "cell_type": "code",
      "source": [
        "import math  # (Not needed here since a custom GCD function is used)\n",
        "\n",
        "def find_gcd_string(str1, str2):\n",
        "    # Helper function to compute the greatest common divisor (GCD) using the Euclidean algorithm\n",
        "    def gcd(a, b):\n",
        "        while b:\n",
        "            a, b = b, a % b  # Update a and b using the remainder\n",
        "        return a  # Returns the greatest common divisor\n",
        "\n",
        "    # Compute the GCD of the lengths of str1 and str2\n",
        "    gcd_length = gcd(len(str1), len(str2))\n",
        "\n",
        "    # Extract the potential GCD substring from the beginning of str1\n",
        "    candidate = str1[:gcd_length]\n",
        "\n",
        "    # Check if candidate can construct both str1 and str2 by repeating it\n",
        "    if str1 == candidate * (len(str1) // gcd_length) and str2 == candidate * (len(str2) // gcd_length):\n",
        "        return candidate  # Return the valid GCD string\n",
        "\n",
        "    return \"\"  # Return an empty string if no valid common divisor string exists\n",
        "\n",
        "# Example usage\n",
        "str1 = \"ABABAB\"\n",
        "str2 = \"ABAB\"\n",
        "\n",
        "# Call the function and print the output\n",
        "output = find_gcd_string(str1, str2)\n",
        "print(output)  # Expected output: \"AB\"\n"
      ],
      "metadata": {
        "colab": {
          "base_uri": "https://localhost:8080/",
          "height": 0
        },
        "id": "qFKQKvRGpON_",
        "outputId": "611f7a7c-473d-4fc1-e853-6f7340ee1230"
      },
      "execution_count": 5,
      "outputs": [
        {
          "output_type": "stream",
          "name": "stdout",
          "text": [
            "AB\n"
          ]
        }
      ]
    },
    {
      "cell_type": "code",
      "source": [
        "import math  # (Not needed, since a custom GCD function is used)\n",
        "\n",
        "def find_gcd_string(str1, str2):\n",
        "    # Helper function to compute the greatest common divisor (GCD) using the Euclidean algorithm\n",
        "    def gcd(a, b):\n",
        "        while b:\n",
        "            a, b = b, a % b  # Update a and b using the remainder\n",
        "        return a  # Returns the greatest common divisor\n",
        "\n",
        "    # Compute the GCD of the lengths of str1 and str2\n",
        "    gcd_length = gcd(len(str1), len(str2))\n",
        "\n",
        "    # Extract the potential GCD substring from the beginning of str1\n",
        "    candidate = str1[:gcd_length]\n",
        "\n",
        "    # Check if the candidate can be used to construct both str1 and str2 by repetition\n",
        "    if str1 == candidate * (len(str1) // gcd_length) and str2 == candidate * (len(str2) // gcd_length):\n",
        "        return candidate  # Return the valid GCD string\n",
        "\n",
        "    return \"\"  # Return an empty string if no valid common divisor string exists\n",
        "\n",
        "# Example usage\n",
        "str1 = \"LEET\"\n",
        "str2 = \"CODE\"\n",
        "\n",
        "# Call the function and print the output\n",
        "output = find_gcd_string(str1, str2)\n",
        "print(output)  # Expected output: \"\"\n"
      ],
      "metadata": {
        "colab": {
          "base_uri": "https://localhost:8080/",
          "height": 0
        },
        "id": "w_FQQ1J5pzOQ",
        "outputId": "e4e54916-55f8-41a9-9946-373cd113d2b2"
      },
      "execution_count": 14,
      "outputs": [
        {
          "output_type": "stream",
          "name": "stdout",
          "text": [
            "\n"
          ]
        }
      ]
    }
  ]
}